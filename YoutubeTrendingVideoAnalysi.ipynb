{
 "cells": [
  {
   "cell_type": "markdown",
   "metadata": {},
   "source": [
    "## <font color=#FF814C>YouTube Trending Videos</font>\n",
    "**<font color=#B23400>Analyzing Key Features of YouTube Trending Videos from 3 Countries</font>**\n",
    "\n",
    "\n",
    "The analysis is going to be performed as follows:\n",
    "\n",
    "- PySpark environment setup\n",
    "- Loading Dataset and Overview\n",
    "- Data Profiling and Transformation\n",
    "- Analyze:\n",
    "  1. What is the interaction level of the most trending videos in each country?\n",
    "  2. Do trending Videos have higher like to dislike ratio?\n",
    "  3. Is there a difference which video types trend per country?\n",
    "  4. Is there a difference which video types trend per per day of the week?"
   ]
  },
  {
   "cell_type": "code",
   "execution_count": 217,
   "metadata": {},
   "outputs": [],
   "source": [
    "import findspark\n",
    "findspark.init()\n",
    "\n",
    "from pyspark.context import SparkContext\n",
    "from pyspark.sql.session import SparkSession\n",
    "\n",
    "sc = SparkContext.getOrCreate() \n",
    "spark = SparkSession(sc) "
   ]
  },
  {
   "cell_type": "markdown",
   "metadata": {},
   "source": [
    "## <font color=#FF814C>I. Data Loading and Overview </font>\n",
    "\n",
    "### <font color=#FF814C>Data Loading </font>\n",
    "\n",
    "In this section, the dataset containing youtube trending video data will be read directly from csv and saved in dataframe variable youtube_trending.\n",
    "\n",
    "The CSV file has the default comma delimiter and the first line of the file is a header. \n",
    "To avoid having all data loaded as string, We will load the data and let it infere the datatype and if the correct datatype isn't infered we can manually change it."
   ]
  },
  {
   "cell_type": "code",
   "execution_count": 218,
   "metadata": {},
   "outputs": [
    {
     "data": {
      "text/markdown": [
       "We have also cached the dataset so it will remain in memory as we will be calling for the remainder of the analysis."
      ],
      "text/plain": [
       "<IPython.core.display.Markdown object>"
      ]
     },
     "metadata": {},
     "output_type": "display_data"
    },
    {
     "name": "stdout",
     "output_type": "stream",
     "text": [
      "root\n",
      " |-- video_id: string (nullable = true)\n",
      " |-- trending_date: string (nullable = true)\n",
      " |-- trending_month: integer (nullable = true)\n",
      " |-- trending_year: integer (nullable = true)\n",
      " |-- t_dow: integer (nullable = true)\n",
      " |-- title: string (nullable = true)\n",
      " |-- channel_title: string (nullable = true)\n",
      " |-- category: string (nullable = true)\n",
      " |-- publish_date: string (nullable = true)\n",
      " |-- publish_month: integer (nullable = true)\n",
      " |-- publish_year: integer (nullable = true)\n",
      " |-- p_dow: integer (nullable = true)\n",
      " |-- views: integer (nullable = true)\n",
      " |-- likes: integer (nullable = true)\n",
      " |-- dislikes: integer (nullable = true)\n",
      " |-- comment_count: integer (nullable = true)\n",
      " |-- comments_disabled: boolean (nullable = true)\n",
      " |-- ratings_disabled: boolean (nullable = true)\n",
      " |-- video_error_or_removed: boolean (nullable = true)\n",
      " |-- country: string (nullable = true)\n",
      " |-- no_tags_used: integer (nullable = true)\n",
      "\n",
      "+-------------+------------+\n",
      "|trending_date|publish_date|\n",
      "+-------------+------------+\n",
      "|   11/14/2017|  11/13/2017|\n",
      "|   11/14/2017|  11/13/2017|\n",
      "+-------------+------------+\n",
      "only showing top 2 rows\n",
      "\n"
     ]
    }
   ],
   "source": [
    "from IPython.display import display, Markdown\n",
    "youtube_trending = spark.read.option(\"header\", \"true\")\\\n",
    "                        .option(\"inferSchema\", \"true\")\\\n",
    "                        .csv(\"US_CA_GBvideos.csv\")\n",
    "youtube_trending.cache()\n",
    "display(Markdown(\"We have also cached the dataset so it will remain in memory as we will be calling for the remainder of the analysis.\")) \n",
    "youtube_trending.printSchema()\n",
    "youtube_trending.select(\"trending_date\",\"publish_date\").show(2)\n"
   ]
  },
  {
   "cell_type": "markdown",
   "metadata": {},
   "source": [
    "### <font color=#FF814C>Data Overview </font>\n",
    "The dataset is loaded correctly and all the variable have been correctly inferred correctly for the rest of variables besides the ones cast above. Thus we can check how many rows and attributes are present, have an overview of the what kind of information is stored in the dataframe by looking at sample rows, and properly determine the structure of the information by identifying what the entities, metrics and dimensions are in our dataset. "
   ]
  },
  {
   "cell_type": "code",
   "execution_count": 213,
   "metadata": {},
   "outputs": [
    {
     "name": "stdout",
     "output_type": "stream",
     "text": [
      "The youtube_trending dataset contains 21 attributes/columns and 120746 records of rows.\n"
     ]
    },
    {
     "data": {
      "text/plain": [
       "[Row(video_id='gHZ1Qz0KiKM', trending_date='11/14/2017', trending_month=11, trending_year=2017, t_dow=2, title='2 Weeks with iPhone X', channel_title='iJustine', category='Science & Technology', publish_date='11/13/2017', publish_month=11, publish_year=2017, p_dow=1, views=119180, likes=9763, dislikes=511, comment_count=1434, comments_disabled=False, ratings_disabled=False, video_error_or_removed=False, country='United States', no_tags_used=7),\n",
       " Row(video_id='GgVmn66oK_A', trending_date='11/14/2017', trending_month=11, trending_year=2017, t_dow=2, title='Which Countries Are About To Collapse?', channel_title='NowThis World', category='News & Politics', publish_date='11/12/2017', publish_month=11, publish_year=2017, p_dow=7, views=544770, likes=7848, dislikes=1171, comment_count=3981, comments_disabled=False, ratings_disabled=False, video_error_or_removed=False, country='United States', no_tags_used=25)]"
      ]
     },
     "execution_count": 213,
     "metadata": {},
     "output_type": "execute_result"
    }
   ],
   "source": [
    "#Identify the dimention of the dataframe (row and column number)\n",
    "print(\"The youtube_trending dataset contains\", len(youtube_trending.columns), \"attributes/columns and\", youtube_trending.count(), \"records of rows.\")\n",
    "\n",
    "#Taking a sample number of rows to see the information stored. \n",
    "sample_youtube_trending=youtube_trending.sample(False, 0.1) #taking random sample of 10% rows from the total dataset\n",
    "sample_youtube_trending.take(2)"
   ]
  },
  {
   "cell_type": "markdown",
   "metadata": {},
   "source": [
    "From the information cotained in the rows we can identify which are the entities described, the metrics used to measure these entities and which attibutes add to the dimension of the entity. \n",
    "- In this dataset the entity is the trending youtube video which is identified by video_id.\n",
    "- There are several metrics for this entity such as: **published time, trending date, total number of views, like, comments, and tags used.**\n",
    "- The attributes that add dimention to the entity are: **country, video category, channel name.**\n",
    "\n",
    "And as we process towards analyzing the features, it is helpful to identify which columns will be able to give us the information we need and identify if we need any transformation needed. \n",
    "The attributes that we have can be categorized as below based on the information they contain\n",
    "- Video Interactivity Information: **views, likes, dislikes, comment_count**\n",
    "- Video Discription: **title, category_id, country**\n",
    "- Timing Information: **trending_date, publish_time**"
   ]
  },
  {
   "cell_type": "markdown",
   "metadata": {},
   "source": [
    "## <font color=#FF814C>II. Data Profiling and Transformation</font>"
   ]
  },
  {
   "cell_type": "markdown",
   "metadata": {},
   "source": [
    "Following the metadata analysis of the attributes, this step will go further into outlining and summerizing the data in these attributes individually and between eachother. \n",
    "This will allow us:\n",
    "- to better understand what valuable data there is to answer the business question \n",
    "- identify if there is need to transform and broaden our dimension\n",
    "- detect attributes that will not be useful to answer our business question (remove from cached dataframe)"
   ]
  },
  {
   "cell_type": "code",
   "execution_count": 359,
   "metadata": {},
   "outputs": [
    {
     "data": {
      "text/markdown": [
       "Checking for nulls on columns video_id, trending_date, publish_time and category"
      ],
      "text/plain": [
       "<IPython.core.display.Markdown object>"
      ]
     },
     "metadata": {},
     "output_type": "display_data"
    },
    {
     "name": "stdout",
     "output_type": "stream",
     "text": [
      "+--------+-------------+------------+--------+\n",
      "|video_id|trending_date|publish_date|category|\n",
      "+--------+-------------+------------+--------+\n",
      "|       0|            0|           0|       0|\n",
      "+--------+-------------+------------+--------+\n",
      "\n"
     ]
    },
    {
     "data": {
      "text/markdown": [
       "Total number of videos and countries in our dataframe"
      ],
      "text/plain": [
       "<IPython.core.display.Markdown object>"
      ]
     },
     "metadata": {},
     "output_type": "display_data"
    },
    {
     "name": "stdout",
     "output_type": "stream",
     "text": [
      "+--------+-------+-------------+\n",
      "|video_id|country|trending_year|\n",
      "+--------+-------+-------------+\n",
      "|   29926|      3|            2|\n",
      "+--------+-------+-------------+\n",
      "\n"
     ]
    },
    {
     "data": {
      "text/markdown": [
       "Checking the most frequently and least frequently appearing videos per country"
      ],
      "text/plain": [
       "<IPython.core.display.Markdown object>"
      ]
     },
     "metadata": {},
     "output_type": "display_data"
    },
    {
     "name": "stdout",
     "output_type": "stream",
     "text": [
      "Row(title='FACE SURGERY WITH MAKEUP', Total Occurance=1)\n",
      "Row(title='Sam Smith - Pray (Official Video) ft. Logic', Total Occurance=70)\n"
     ]
    },
    {
     "data": {
      "text/markdown": [
       "Check the number of days covered in this time frame."
      ],
      "text/plain": [
       "<IPython.core.display.Markdown object>"
      ]
     },
     "metadata": {},
     "output_type": "display_data"
    },
    {
     "name": "stdout",
     "output_type": "stream",
     "text": [
      "+------------+-------------+\n",
      "|publish_date|trending_date|\n",
      "+------------+-------------+\n",
      "|         425|          205|\n",
      "+------------+-------------+\n",
      "\n"
     ]
    },
    {
     "data": {
      "text/markdown": [
       "Check the types of videos in the dataframe."
      ],
      "text/plain": [
       "<IPython.core.display.Markdown object>"
      ]
     },
     "metadata": {},
     "output_type": "display_data"
    },
    {
     "name": "stdout",
     "output_type": "stream",
     "text": [
      "+--------+\n",
      "|category|\n",
      "+--------+\n",
      "|      17|\n",
      "+--------+\n",
      "\n"
     ]
    }
   ],
   "source": [
    "import pyspark.sql.functions as F\n",
    "\n",
    "display(Markdown(\"Checking for nulls on columns video_id, trending_date, publish_time and category\")) \n",
    "youtube_trending.select([F.count(F.when(F.col(c).isNull(), c)).alias(c) for c in [\"video_id\",\"trending_date\",\"publish_date\",\"category\"]]).show()\n",
    "\n",
    "display(Markdown(\"Total number of videos and countries in our dataframe\")) \n",
    "youtube_trending.select([F.countDistinct(dis).alias(dis) for dis in [\"video_id\",\"country\",\"trending_year\"]]).show()\n",
    "\n",
    "display(Markdown(\"Checking the most frequently and least frequently appearing videos per country\")) \n",
    "videofrequencyDF = youtube_trending.groupBy(\"title\").agg(F.count(F.lit(1)).alias(\"Total Occurance\"))\n",
    "\n",
    "video_leastFreq = videofrequencyDF.orderBy(F.col(\"Total Occurance\").asc()).first()\n",
    "print(video_leastFreq)\n",
    "video_mostFreq = videofrequencyDF.orderBy(F.col(\"Total Occurance\").desc()).first()\n",
    "print(video_mostFreq)\n",
    "\n",
    "display(Markdown(\"Check the number of days covered in this time frame.\")) \n",
    "youtube_trending.select([F.countDistinct(c).alias(c) for c in [\"publish_date\", \"trending_date\"]]).show()\n",
    "\n",
    "display(Markdown(\"Check the types of videos in the dataframe.\")) \n",
    "youtube_trending.select([F.countDistinct(c).alias(c) for c in [\"category\"]]).show()\n"
   ]
  },
  {
   "cell_type": "code",
   "execution_count": 309,
   "metadata": {},
   "outputs": [
    {
     "data": {
      "text/markdown": [
       "what period does our dataframe cover for each country?"
      ],
      "text/plain": [
       "<IPython.core.display.Markdown object>"
      ]
     },
     "metadata": {},
     "output_type": "display_data"
    },
    {
     "name": "stdout",
     "output_type": "stream",
     "text": [
      "+-------------+-------------------+\n",
      "|trending_year|min(trending_month)|\n",
      "+-------------+-------------------+\n",
      "|         2017|                 11|\n",
      "|         2018|                  1|\n",
      "+-------------+-------------------+\n",
      "\n",
      "+-------------+-------------------+\n",
      "|trending_year|max(trending_month)|\n",
      "+-------------+-------------------+\n",
      "|         2017|                 12|\n",
      "|         2018|                  6|\n",
      "+-------------+-------------------+\n",
      "\n"
     ]
    }
   ],
   "source": [
    "display(Markdown(\"what period does our dataframe cover for each country?\")) \n",
    "\n",
    "period_intial=youtube_trending.select(\"trending_year\",\"trending_month\")\\\n",
    "                          .groupby(\"trending_year\")\\\n",
    "                          .min(\"trending_month\")\n",
    "    \n",
    "period_final=youtube_trending.select(\"trending_year\",\"trending_month\")\\\n",
    "                          .groupby(\"trending_year\")\\\n",
    "                          .max(\"trending_month\")\n",
    "\n",
    "period_intial.orderBy('trending_year',ascending=True).show()\n",
    "period_final.orderBy('trending_year',ascending=True).show()"
   ]
  },
  {
   "cell_type": "markdown",
   "metadata": {},
   "source": [
    "We can see from above that out dataset has data from November of 2017  to June of 2018."
   ]
  },
  {
   "cell_type": "markdown",
   "metadata": {},
   "source": [
    "##### Add a column that gives the name day of the week for both trending and published date."
   ]
  },
  {
   "cell_type": "code",
   "execution_count": 232,
   "metadata": {},
   "outputs": [
    {
     "name": "stdout",
     "output_type": "stream",
     "text": [
      "+--------------+------------+-------------+------------+\n",
      "|trending_month|t_name_month|publish_month|p_name_month|\n",
      "+--------------+------------+-------------+------------+\n",
      "|            11|         Nov|           11|         Nov|\n",
      "|            11|         Nov|           11|         Nov|\n",
      "+--------------+------------+-------------+------------+\n",
      "only showing top 2 rows\n",
      "\n"
     ]
    }
   ],
   "source": [
    "youtube_trending = youtube_trending.withColumn(\"t_name_month\", F.when(F.col(\"trending_month\") == 1, \"Jan\")\\\n",
    "                                                           .when(F.col(\"trending_month\") == 2, \"Feb\")\\\n",
    "                                                           .when(F.col(\"trending_month\") == 3, \"Mar\")\\\n",
    "                                                           .when(F.col(\"trending_month\") == 4, \"Apr\")\\\n",
    "                                                           .when(F.col(\"trending_month\") == 5, \"May\")\\\n",
    "                                                           .when(F.col(\"trending_month\") == 6, \"Jun\")\\\n",
    "                                                           .when(F.col(\"trending_month\") == 7, \"Jul\")\\\n",
    "                                                           .when(F.col(\"trending_month\") == 8, \"Aug\")\\\n",
    "                                                           .when(F.col(\"trending_month\") == 9, \"Sept\")\\\n",
    "                                                           .when(F.col(\"trending_month\") == 10, \"Oct\")\\\n",
    "                                                           .when(F.col(\"trending_month\") == 11, \"Nov\")\\\n",
    "                                                           .when(F.col(\"trending_month\") == 12, \"Dec\")\n",
    "                                               \n",
    "youtube_trending = youtube_trending.withColumn(\"p_name_month\", F.when(F.col(\"publish_month\") == 1, \"Jan\")\\\n",
    "                                                           .when(F.col(\"publish_month\") == 2, \"Feb\")\\\n",
    "                                                           .when(F.col(\"publish_month\") == 3, \"Mar\")\\\n",
    "                                                           .when(F.col(\"publish_month\") == 4, \"Apr\")\\\n",
    "                                                           .when(F.col(\"publish_month\") == 5, \"May\")\\\n",
    "                                                           .when(F.col(\"publish_month\") == 6, \"Jun\")\\\n",
    "                                                           .when(F.col(\"publish_month\") == 7, \"Jul\")\\\n",
    "                                                           .when(F.col(\"publish_month\") == 8, \"Aug\")\\\n",
    "                                                           .when(F.col(\"publish_month\") == 9, \"Sept\")\\\n",
    "                                                           .when(F.col(\"publish_month\") == 10, \"Oct\")\\\n",
    "                                                           .when(F.col(\"publish_month\") == 11, \"Nov\")\\\n",
    "                                                           .when(F.col(\"trending_month\") == 12, \"Dec\")\n",
    "\n",
    "youtube_trending.cache()\n",
    "youtube_trending.groupby(\"trending_month\",\"t_name_month\",\"publish_month\",\"p_name_month\").show(2)"
   ]
  },
  {
   "cell_type": "markdown",
   "metadata": {},
   "source": [
    "##### Add a column that gives the name month for both trending and published date."
   ]
  },
  {
   "cell_type": "code",
   "execution_count": 225,
   "metadata": {},
   "outputs": [
    {
     "name": "stdout",
     "output_type": "stream",
     "text": [
      "+-----+----------+-----+----------+\n",
      "|t_dow|t_name_dow|p_dow|p_name_dow|\n",
      "+-----+----------+-----+----------+\n",
      "|    2|   Tuesday|    1|    Monday|\n",
      "|    2|   Tuesday|    1|    Monday|\n",
      "+-----+----------+-----+----------+\n",
      "only showing top 2 rows\n",
      "\n"
     ]
    }
   ],
   "source": [
    "youtube_trending = youtube_trending.withColumn(\"t_name_dow\", F.when(F.col(\"t_dow\") == 1, \"Monday\")\\\n",
    "                                                           .when(F.col(\"t_dow\") == 2, \"Tuesday\")\\\n",
    "                                                           .when(F.col(\"t_dow\") == 3, \"Wednesday\")\\\n",
    "                                                           .when(F.col(\"t_dow\") == 4, \"Thursday\")\\\n",
    "                                                           .when(F.col(\"t_dow\") == 5, \"Friday\")\\\n",
    "                                                           .when(F.col(\"t_dow\") == 6, \"Saturday\")\\\n",
    "                                                           .otherwise(\"Sunday\"))\n",
    "youtube_trending = youtube_trending.withColumn(\"p_name_dow\", F.when(F.col(\"p_dow\") == 1, \"Monday\")\\\n",
    "                                                           .when(F.col(\"p_dow\") == 2, \"Tuesday\")\\\n",
    "                                                           .when(F.col(\"p_dow\") == 3, \"Wednesday\")\\\n",
    "                                                           .when(F.col(\"p_dow\") == 4, \"Thursday\")\\\n",
    "                                                           .when(F.col(\"p_dow\") == 5, \"Friday\")\\\n",
    "                                                           .when(F.col(\"p_dow\") == 6, \"Saturday\")\\\n",
    "                                                           .otherwise(\"Sunday\"))\n",
    "\n",
    "youtube_trending.cache()\n",
    "youtube_trending.select(\"t_dow\",\"t_name_dow\",\"p_dow\",\"p_name_dow\").show(2)"
   ]
  },
  {
   "cell_type": "markdown",
   "metadata": {},
   "source": [
    "#### Add a column that calculates the different in day from when a video was published to when it started trending."
   ]
  },
  {
   "cell_type": "code",
   "execution_count": null,
   "metadata": {},
   "outputs": [],
   "source": [
    "youtube_trending = youtube_trending.withColumn(\"t_name_dow\", F.when(F.col(\"t_dow\") == 1, \"Monday\")\\\n",
    "                                                           .when(F.col(\"t_dow\") == 2, \"Tuesday\")\\\n",
    "                                                           .when(F.col(\"t_dow\") == 3, \"Wednesday\")\\\n",
    "                                                           .when(F.col(\"t_dow\") == 4, \"Thursday\")\\\n",
    "                                                           .when(F.col(\"t_dow\") == 5, \"Friday\")\\\n",
    "                                                           .when(F.col(\"t_dow\") == 6, \"Saturday\")\\\n",
    "                                                           .otherwise(\"Sunday\"))\n",
    "youtube_trending.cache()"
   ]
  },
  {
   "cell_type": "markdown",
   "metadata": {},
   "source": [
    "## <font color=#FF814C>II. Data Analysis</font>"
   ]
  },
  {
   "cell_type": "markdown",
   "metadata": {},
   "source": [
    "### <font color=#FF4B00>Total Trending Videos per Month for CA, US and GB</font>"
   ]
  },
  {
   "cell_type": "code",
   "execution_count": 258,
   "metadata": {},
   "outputs": [
    {
     "data": {
      "text/markdown": [
       "Calculate the count of distinct videos that were "
      ],
      "text/plain": [
       "<IPython.core.display.Markdown object>"
      ]
     },
     "metadata": {},
     "output_type": "display_data"
    },
    {
     "name": "stdout",
     "output_type": "stream",
     "text": [
      "+-------------+-------------+------------+--------------+----------------------+\n",
      "|      country|trending_year|t_name_month|trending_month|DistinctTrendingVideos|\n",
      "+-------------+-------------+------------+--------------+----------------------+\n",
      "|       Canada|         2017|         Nov|            11|                  1990|\n",
      "|       Canada|         2017|         Dec|            12|                  3545|\n",
      "|       Canada|         2018|         Jan|             1|                  3445|\n",
      "|       Canada|         2018|         Feb|             2|                  3327|\n",
      "|       Canada|         2018|         Mar|             3|                  3790|\n",
      "|       Canada|         2018|         Apr|             4|                  3044|\n",
      "|       Canada|         2018|         May|             5|                  3842|\n",
      "|       Canada|         2018|         Jun|             6|                  1776|\n",
      "|Great Britain|         2017|         Nov|            11|                   561|\n",
      "|Great Britain|         2017|         Dec|            12|                   769|\n",
      "|Great Britain|         2018|         Jan|             1|                   805|\n",
      "|Great Britain|         2018|         Feb|             2|                   610|\n",
      "|Great Britain|         2018|         Mar|             3|                   549|\n",
      "|Great Britain|         2018|         Apr|             4|                   465|\n",
      "|Great Britain|         2018|         May|             5|                   473|\n",
      "|Great Britain|         2018|         Jun|             6|                   307|\n",
      "|United States|         2017|         Nov|            11|                   898|\n",
      "|United States|         2017|         Dec|            12|                  1354|\n",
      "|United States|         2018|         Jan|             1|                  1423|\n",
      "|United States|         2018|         Feb|             2|                  1189|\n",
      "+-------------+-------------+------------+--------------+----------------------+\n",
      "only showing top 20 rows\n",
      "\n",
      "The tvcountrymmyy dataframe contains 5 attributes/columns and 24 records of rows.\n"
     ]
    },
    {
     "data": {
      "text/markdown": [
       "Which country had the largest number of videos trending?"
      ],
      "text/plain": [
       "<IPython.core.display.Markdown object>"
      ]
     },
     "metadata": {},
     "output_type": "display_data"
    },
    {
     "name": "stdout",
     "output_type": "stream",
     "text": [
      "+-------------+----------------------+\n",
      "|      country|DistinctTrendingVideos|\n",
      "+-------------+----------------------+\n",
      "|Great Britain|                  3237|\n",
      "|United States|                  6282|\n",
      "|       Canada|                 24104|\n",
      "+-------------+----------------------+\n",
      "\n"
     ]
    }
   ],
   "source": [
    "display(Markdown(\"Calculate the count of distinct videos that were \")) \n",
    "tvcountrymmyy = youtube_trending.select(\"t_name_month\", \"trending_month\",\"video_id\",\"country\",\"trending_year\")\\\n",
    "                       .groupBy(\"country\",\"trending_year\",\"t_name_month\",\"trending_month\")\\\n",
    "                       .agg(F.countDistinct(\"video_id\").alias(\"DistinctTrendingVideos\"))\n",
    "\n",
    "cols = ['country','trending_year','trending_month']\n",
    "tvcountrymmyy.orderBy(cols,ascending=True).show() #ordering/sorting the resulting dataframe\n",
    "print(\"The tvcountrymmyy dataframe contains\", len(tvcountrymmyy.columns), \"attributes/columns and\", tvcountrymmyy.count(), \"records of rows.\")\n",
    "tvcountrymmyy.cache()\n",
    "\n",
    "display(Markdown(\"Which country had the largest number of videos trending?\")) \n",
    "youtube_trending.select(\"video_id\",\"country\")\\\n",
    "                       .groupBy(\"country\")\\\n",
    "                       .agg(F.countDistinct(\"video_id\").alias(\"DistinctTrendingVideos\")).show()\n"
   ]
  },
  {
   "cell_type": "markdown",
   "metadata": {},
   "source": [
    "### <font color=#FF4B00>Trending Videos per Category Type</font>"
   ]
  },
  {
   "cell_type": "code",
   "execution_count": 322,
   "metadata": {},
   "outputs": [
    {
     "data": {
      "text/markdown": [
       "Calculate how many video are trending for each catagory in total for the whole period."
      ],
      "text/plain": [
       "<IPython.core.display.Markdown object>"
      ]
     },
     "metadata": {},
     "output_type": "display_data"
    },
    {
     "name": "stdout",
     "output_type": "stream",
     "text": [
      "+--------------------+----------------------+\n",
      "|            category|DistinctTrendingVideos|\n",
      "+--------------------+----------------------+\n",
      "|       Entertainment|                  9612|\n",
      "|     News & Politics|                  3377|\n",
      "|      People & Blogs|                  3036|\n",
      "|               Music|                  2458|\n",
      "|              Sports|                  2400|\n",
      "|              Comedy|                  2280|\n",
      "|       Howto & Style|                  1759|\n",
      "|    Film & Animation|                  1415|\n",
      "|              Gaming|                   953|\n",
      "|Science & Technology|                   887|\n",
      "|           Education|                   753|\n",
      "|      Pets & Animals|                   323|\n",
      "|    Autos & Vehicles|                   307|\n",
      "|     Travel & Events|                   243|\n",
      "|               Shows|                   113|\n",
      "|Nonprofits & Acti...|                    67|\n",
      "|              Movies|                     1|\n",
      "+--------------------+----------------------+\n",
      "\n"
     ]
    },
    {
     "data": {
      "text/markdown": [
       "Check if the top trending video type in each country per year alligns with the general results."
      ],
      "text/plain": [
       "<IPython.core.display.Markdown object>"
      ]
     },
     "metadata": {},
     "output_type": "display_data"
    },
    {
     "data": {
      "text/markdown": [
       "CANADA"
      ],
      "text/plain": [
       "<IPython.core.display.Markdown object>"
      ]
     },
     "metadata": {},
     "output_type": "display_data"
    },
    {
     "name": "stdout",
     "output_type": "stream",
     "text": [
      "+---------------+----------------------+\n",
      "|       category|DistinctTrendingVideos|\n",
      "+---------------+----------------------+\n",
      "|  Entertainment|                  8140|\n",
      "|News & Politics|                  2910|\n",
      "| People & Blogs|                  2531|\n",
      "+---------------+----------------------+\n",
      "only showing top 3 rows\n",
      "\n"
     ]
    },
    {
     "data": {
      "text/markdown": [
       "UNITED STATES"
      ],
      "text/plain": [
       "<IPython.core.display.Markdown object>"
      ]
     },
     "metadata": {},
     "output_type": "display_data"
    },
    {
     "name": "stdout",
     "output_type": "stream",
     "text": [
      "+-------------+----------------------+\n",
      "|     category|DistinctTrendingVideos|\n",
      "+-------------+----------------------+\n",
      "|Entertainment|                  1610|\n",
      "|        Music|                   796|\n",
      "|Howto & Style|                   591|\n",
      "+-------------+----------------------+\n",
      "only showing top 3 rows\n",
      "\n"
     ]
    },
    {
     "data": {
      "text/markdown": [
       "GREAT BRITAIN"
      ],
      "text/plain": [
       "<IPython.core.display.Markdown object>"
      ]
     },
     "metadata": {},
     "output_type": "display_data"
    },
    {
     "name": "stdout",
     "output_type": "stream",
     "text": [
      "+--------------+----------------------+\n",
      "|      category|DistinctTrendingVideos|\n",
      "+--------------+----------------------+\n",
      "|         Music|                   873|\n",
      "| Entertainment|                   850|\n",
      "|People & Blogs|                   283|\n",
      "+--------------+----------------------+\n",
      "only showing top 3 rows\n",
      "\n"
     ]
    }
   ],
   "source": [
    "display(Markdown(\"Calculate how many video are trending for each catagory in total for the whole period.\")) \n",
    "video_category = youtube_trending.select(\"video_id\",\"country\",\"category\",\"trending_year\")\\\n",
    "                       .groupBy(\"category\")\\\n",
    "                       .agg(F.countDistinct(\"video_id\").alias(\"DistinctTrendingVideos\"))\n",
    "\n",
    "cols = ['country','trending_year',\"DistinctTrendingVideos\"]\n",
    "video_category.orderBy(\"DistinctTrendingVideos\",ascending=False).show() #sort from highest to lowest count\n",
    "\n",
    "display(Markdown(\"Check if the top trending video type in each country per year alligns with the general results.\")) \n",
    "display(Markdown(\"CANADA\")) \n",
    "video_category_CA = youtube_trending.select(\"video_id\",\"country\",\"category\",\"trending_year\")\\\n",
    "                       .where((F.col(\"country\")=='Canada'))\\\n",
    "                       .groupBy(\"category\")\\\n",
    "                       .agg(F.countDistinct(\"video_id\").alias(\"DistinctTrendingVideos\"))\n",
    "video_category_CA.orderBy(\"DistinctTrendingVideos\",ascending=False).show(3)\n",
    "\n",
    "\n",
    "display(Markdown(\"UNITED STATES\")) \n",
    "video_category_US = youtube_trending.select(\"video_id\",\"country\",\"category\",\"trending_year\")\\\n",
    "                       .where((F.col(\"country\")=='United States'))\\\n",
    "                       .groupBy(\"category\")\\\n",
    "                       .agg(F.countDistinct(\"video_id\").alias(\"DistinctTrendingVideos\"))\n",
    "video_category_US.orderBy(\"DistinctTrendingVideos\",ascending=False).show(3)\n",
    "\n",
    "display(Markdown(\"GREAT BRITAIN\")) \n",
    "video_category_GB = youtube_trending.select(\"video_id\",\"country\",\"category\",\"trending_year\")\\\n",
    "                       .where((F.col(\"country\")=='Great Britain'))\\\n",
    "                       .groupBy(\"category\")\\\n",
    "                       .agg(F.countDistinct(\"video_id\").alias(\"DistinctTrendingVideos\"))\n",
    "video_category_GB.orderBy(\"DistinctTrendingVideos\",ascending=False).show(3)\n"
   ]
  },
  {
   "cell_type": "markdown",
   "metadata": {},
   "source": [
    "### <font color=#FF4B00>Do certain video catagories trend of specific day of the week? </font>"
   ]
  },
  {
   "cell_type": "code",
   "execution_count": 381,
   "metadata": {},
   "outputs": [
    {
     "data": {
      "text/markdown": [
       "**Day of the Week and total videos Trending per category**"
      ],
      "text/plain": [
       "<IPython.core.display.Markdown object>"
      ]
     },
     "metadata": {},
     "output_type": "display_data"
    },
    {
     "name": "stdout",
     "output_type": "stream",
     "text": [
      "+------------------------+\n",
      "|count(DISTINCT video_id)|\n",
      "+------------------------+\n",
      "|                   29926|\n",
      "+------------------------+\n",
      "\n",
      "+--------------------+------+------+--------+------+--------+-------+---------+\n",
      "|            category|Friday|Monday|Saturday|Sunday|Thursday|Tuesday|Wednesday|\n",
      "+--------------------+------+------+--------+------+--------+-------+---------+\n",
      "|    Autos & Vehicles|    33|    46|      18|    35|      83|     60|       36|\n",
      "|              Comedy|   425|   289|     248|   262|     351|    358|      353|\n",
      "|           Education|    82|   148|      95|   106|     128|    123|       76|\n",
      "|       Entertainment|  1570|  1485|    1218|  1042|    1393|   1459|     1451|\n",
      "|    Film & Animation|   193|   205|     200|   179|     220|    229|      195|\n",
      "|              Gaming|   138|   127|     154|   165|     138|    107|      128|\n",
      "|       Howto & Style|   262|   205|     191|   289|     281|    268|      269|\n",
      "|              Movies|  null|  null|    null|  null|       1|   null|     null|\n",
      "|               Music|   634|   366|     178|   184|     426|    313|      363|\n",
      "|     News & Politics|   489|   577|     350|   407|     493|    554|      514|\n",
      "|Nonprofits & Acti...|     7|    12|       8|    10|       9|     14|        8|\n",
      "|      People & Blogs|   509|   437|     393|   377|     428|    439|      459|\n",
      "|      Pets & Animals|    61|    23|      53|    50|      55|     39|       45|\n",
      "|Science & Technology|   150|   108|      97|   114|     130|    163|      132|\n",
      "|               Shows|    19|    19|      13|     1|      25|     17|       19|\n",
      "|              Sports|   343|   328|     333|   417|     308|    357|      321|\n",
      "|     Travel & Events|    29|    26|      42|    60|      22|     21|       45|\n",
      "+--------------------+------+------+--------+------+--------+-------+---------+\n",
      "\n"
     ]
    }
   ],
   "source": [
    "display(Markdown(\"**Day of the Week and total videos Trending per category**\"))\n",
    "\n",
    "youtube_trending.agg(F.countDistinct(\"video_id\")).show()\n",
    "\n",
    "\n",
    "category_dow=youtube_trending.groupBy(\"category\")\\\n",
    "              .pivot(\"p_name_dow\")\\\n",
    "              .agg(F.countDistinct(\"video_id\").alias(\"Number of Videos Trending\"))\n",
    "\n",
    "category_dow.cache()\n",
    "category_dow.orderBy(\"category\").show()\n",
    "\n",
    "#category_dow2= youtube_trending.groupBy(\"category\")\\\n",
    "                #.pivot(\"p_name_dow\")\\\n",
    "                #.agg(((F.countDistinct(\"video_id\"))/29926*100).alias(\"totalvideo%\"))\n",
    "\n",
    "\n"
   ]
  },
  {
   "cell_type": "markdown",
   "metadata": {},
   "source": [
    "### <font color=#FF4B00>Video Interactivity of Trending Videos Per Category</font>"
   ]
  },
  {
   "cell_type": "code",
   "execution_count": 415,
   "metadata": {},
   "outputs": [
    {
     "name": "stdout",
     "output_type": "stream",
     "text": [
      "+--------------------+------------+---------------+------------+\n",
      "|            category|AverageViews|AverageDislikes|AverageLikes|\n",
      "+--------------------+------------+---------------+------------+\n",
      "|    Autos & Vehicles|    25244097|          12647|      114841|\n",
      "|              Comedy|    43460605|          43698|     1253154|\n",
      "|           Education|    12100921|          13561|      383049|\n",
      "|       Entertainment|   169884583|        1944971|     3312868|\n",
      "|    Film & Animation|    54863912|          60025|      922355|\n",
      "|              Gaming|    18158133|         212976|     1031695|\n",
      "|       Howto & Style|    54155921|          66632|      605954|\n",
      "|              Movies|     5661965|           3784|       67232|\n",
      "|               Music|   424538912|         421473|     5613827|\n",
      "|     News & Politics|    18994966|         132439|      610526|\n",
      "|Nonprofits & Acti...|    26703269|         545595|     2061275|\n",
      "|      People & Blogs|    62338362|         504340|     2032463|\n",
      "|      Pets & Animals|     6416920|           7732|      193092|\n",
      "|Science & Technology|    42799458|          47469|      564804|\n",
      "|               Shows|     1709880|           2864|       44588|\n",
      "|              Sports|    29090799|         193053|     1291139|\n",
      "|     Travel & Events|    23932421|           9000|      135057|\n",
      "+--------------------+------------+---------------+------------+\n",
      "\n"
     ]
    }
   ],
   "source": [
    "youtube_trending.groupBy(\"category\")\\\n",
    "              .agg(F.max(\"views\").alias(\"AverageViews\"),\\\n",
    "                   F.max(\"dislikes\").alias(\"AverageDislikes\"),\\\n",
    "                   F.max(\"likes\").alias(\"AverageLikes\"))\\\n",
    "                    .orderBy(\"category\").show()"
   ]
  },
  {
   "cell_type": "markdown",
   "metadata": {},
   "source": []
  }
 ],
 "metadata": {
  "kernelspec": {
   "display_name": "Python 3",
   "language": "python",
   "name": "python3"
  },
  "language_info": {
   "codemirror_mode": {
    "name": "ipython",
    "version": 3
   },
   "file_extension": ".py",
   "mimetype": "text/x-python",
   "name": "python",
   "nbconvert_exporter": "python",
   "pygments_lexer": "ipython3",
   "version": "3.7.4"
  }
 },
 "nbformat": 4,
 "nbformat_minor": 2
}
